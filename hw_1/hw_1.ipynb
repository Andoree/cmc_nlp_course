{
 "cells": [
  {
   "cell_type": "code",
   "execution_count": 1,
   "id": "4743338d-21f5-42a7-aeed-99bc21d46f39",
   "metadata": {
    "tags": []
   },
   "outputs": [],
   "source": [
    "from typing import List\n",
    "from string import punctuation\n",
    "import re\n",
    "from collections import Counter\n",
    "import math\n",
    "import itertools\n",
    "import numpy as np\n",
    "from matplotlib import pyplot as plt"
   ]
  },
  {
   "cell_type": "code",
   "execution_count": 2,
   "id": "9c80ce35-1d55-4f8e-92ae-79d81cf0a39e",
   "metadata": {
    "tags": []
   },
   "outputs": [],
   "source": [
    "train_text = \"\"\"\n",
    "Вот дом, Который построил Джек. \n",
    "А это пшеница, \n",
    "Которая в тёмном чулане хранится \n",
    "В доме, \n",
    "Который построил Джек. \n",
    "А это весёлая птица-синица, \n",
    "Которая часто ворует пшеницу, \n",
    "Которая в тёмном чулане хранится \n",
    "В доме, \n",
    "Который построил Джек.\n",
    "\"\"\"\n",
    "test_text = \"\"\"\n",
    "Вот кот, Который пугает и ловит синицу,\n",
    "Которая часто ворует пшеницу,\n",
    "Которая в тёмном чулане хранится\n",
    "В доме, Который построил Джек.\n",
    "\"\"\""
   ]
  },
  {
   "cell_type": "code",
   "execution_count": 3,
   "id": "79dca5a3-abe1-4a74-ab1d-5160c9d40f14",
   "metadata": {
    "tags": []
   },
   "outputs": [],
   "source": [
    "def tokenize_text(text: str) -> List[str]:\n",
    "    tokens = [\"<s>\", ]\n",
    "    \n",
    "    tokens += [word.lower() for word in re.sub(f\"[{punctuation}]\", ' ', text).split()]\n",
    "    \n",
    "    return tokens"
   ]
  },
  {
   "cell_type": "code",
   "execution_count": 4,
   "id": "0db82f24-22d4-4dff-b535-e0d760411ec7",
   "metadata": {
    "tags": []
   },
   "outputs": [],
   "source": [
    "train_tokens = tokenize_text(train_text)\n",
    "test_tokens = tokenize_text(test_text)"
   ]
  },
  {
   "cell_type": "code",
   "execution_count": 5,
   "id": "6cd34c06-f753-4143-926b-b9ba21454ce3",
   "metadata": {
    "tags": []
   },
   "outputs": [
    {
     "name": "stdout",
     "output_type": "stream",
     "text": [
      "Train: ['<s>', 'вот', 'дом', 'который', 'построил', 'джек', 'а', 'это', 'пшеница', 'которая', 'в', 'тёмном', 'чулане', 'хранится', 'в', 'доме', 'который', 'построил', 'джек', 'а', 'это', 'весёлая', 'птица', 'синица', 'которая', 'часто', 'ворует', 'пшеницу', 'которая', 'в', 'тёмном', 'чулане', 'хранится', 'в', 'доме', 'который', 'построил', 'джек']\n",
      "Test: ['<s>', 'вот', 'кот', 'который', 'пугает', 'и', 'ловит', 'синицу', 'которая', 'часто', 'ворует', 'пшеницу', 'которая', 'в', 'тёмном', 'чулане', 'хранится', 'в', 'доме', 'который', 'построил', 'джек']\n"
     ]
    }
   ],
   "source": [
    "print(\"Train:\", train_tokens)\n",
    "print(\"Test:\", test_tokens)"
   ]
  },
  {
   "cell_type": "code",
   "execution_count": 6,
   "id": "8e8a38ff-7975-4bf8-9d90-3c0b91502c44",
   "metadata": {},
   "outputs": [],
   "source": [
    "def calculate_unigram_probabilities(tokens: List[str], vocab, smoothing=None, add_lambda=None):\n",
    "    # If the sequence starts with sentence beginning token <s>, I skip it\n",
    "    if tokens[0] == \"<s>\":\n",
    "        tokens = tokens[1:]\n",
    "    unigram_probabilities = Counter(tokens)\n",
    "    \n",
    "    N = len(tokens)\n",
    "    for token in vocab:\n",
    "        freq = unigram_probabilities.get(token, 0.)\n",
    "        if smoothing is None:\n",
    "            unigram_probabilities[token] = freq / N\n",
    "        elif smoothing == \"additive\":\n",
    "            unigram_probabilities[token] = (freq + add_lambda) / (N +  add_lambda * len(vocab))      \n",
    "            \n",
    "    return unigram_probabilities\n",
    " \n",
    "        "
   ]
  },
  {
   "cell_type": "code",
   "execution_count": 7,
   "id": "21485823-2a39-431b-bea8-38bb94b46d55",
   "metadata": {},
   "outputs": [],
   "source": [
    "def calculate_bigram_probabilities(tokens: List[str], vocab, smoothing=None, add_lambda=None):\n",
    "    unigram_counter = Counter(tokens)\n",
    "\n",
    "    num_tokens = len(tokens)\n",
    "    vocab_size = len(vocab)\n",
    "    # Making sure the sequence starts with the sentence beginning token\n",
    "    assert tokens[0] == \"<s>\"\n",
    "    \n",
    "    bigram_probabilities = {}\n",
    "    bigram_probabilities[\"<s>\"] = Counter()\n",
    "    # bigram_probabilities[\"<s>\"][tokens[1]] = 1 \n",
    "    for i, j in zip(range(num_tokens - 1), range(1, num_tokens)):\n",
    "        first_token = tokens[i]\n",
    "        second_token = tokens[j]\n",
    "        if bigram_probabilities.get(first_token) is None:\n",
    "            bigram_probabilities[first_token] = Counter()\n",
    "            \n",
    "        bigram_probabilities[first_token][second_token] += 1\n",
    "    \n",
    "    # Calculating bigram probabilities\n",
    "    for first_token, second_token in itertools.product(vocab.union(set((\"<s>\",))), vocab):\n",
    "        if bigram_probabilities.get(first_token) is not None:\n",
    "            bigram_count = bigram_probabilities[first_token].get(second_token, 0)\n",
    "        else:\n",
    "            bigram_count = 0\n",
    "            bigram_probabilities[first_token] = Counter()\n",
    "        first_token_unigram_count = unigram_counter.get(first_token, 0)\n",
    "        \n",
    "        if smoothing is None:\n",
    "            if first_token_unigram_count == 0:\n",
    "                bigram_cond_p = 0.\n",
    "            else:\n",
    "                bigram_cond_p = bigram_count / first_token_unigram_count\n",
    "        elif smoothing == \"additive\":\n",
    "            if first_token_unigram_count == 0 and add_lambda == 0.:\n",
    "                bigram_cond_p = 0.\n",
    "            else:\n",
    "                bigram_cond_p = (bigram_count + add_lambda) / (first_token_unigram_count + add_lambda * vocab_size)\n",
    "        bigram_probabilities[first_token][second_token] = bigram_cond_p\n",
    "            \n",
    "    return bigram_probabilities"
   ]
  },
  {
   "cell_type": "code",
   "execution_count": 8,
   "id": "56970b12-7121-43f8-964b-c060d73abdd1",
   "metadata": {
    "tags": []
   },
   "outputs": [],
   "source": [
    "train_unigram_vocab = set(train_tokens[1:])\n",
    "test_unigram_vocab = set(test_tokens[1:])\n",
    "train_test_unigram_vocab = train_unigram_vocab.union(test_unigram_vocab)"
   ]
  },
  {
   "cell_type": "markdown",
   "id": "825829fc-5e85-40ef-8ab9-f763bbbfb829",
   "metadata": {
    "tags": []
   },
   "source": [
    "### Подсчёт вероятностей униграммных моделей\n",
    "\n",
    "* Униграммная модель без сглаживания \n",
    "\n",
    "* Униграммная модель со сглаживанием Лапласа ($\\lambda$ = 1)"
   ]
  },
  {
   "cell_type": "code",
   "execution_count": 9,
   "id": "192b91e6-1b57-41ee-8272-1c976ffb9c4b",
   "metadata": {
    "tags": []
   },
   "outputs": [],
   "source": [
    "train_unigram_probas_no_smoothing = calculate_unigram_probabilities(tokens=train_tokens, \n",
    "                                                                    vocab=train_test_unigram_vocab)\n",
    "train_unigram_probas_add1 = calculate_unigram_probabilities(tokens=train_tokens,\n",
    "                                                            smoothing=\"additive\",\n",
    "                                                            add_lambda=1.,\n",
    "                                                            vocab=train_test_unigram_vocab)"
   ]
  },
  {
   "cell_type": "markdown",
   "id": "d71c102d-e6b8-478e-82ea-8c6e8850a380",
   "metadata": {},
   "source": [
    "Проверка того, что сумма вероятностей по всем униграммам равна единице."
   ]
  },
  {
   "cell_type": "code",
   "execution_count": 10,
   "id": "5ce99621-1b2c-4909-a675-3c73e69ef1bd",
   "metadata": {
    "tags": []
   },
   "outputs": [
    {
     "name": "stdout",
     "output_type": "stream",
     "text": [
      "0.9999999999999998\n",
      "0.9999999999999996\n"
     ]
    }
   ],
   "source": [
    "print(sum(train_unigram_probas_no_smoothing.values()))\n",
    "print(sum(train_unigram_probas_add1.values()))"
   ]
  },
  {
   "cell_type": "code",
   "execution_count": 11,
   "id": "20ea923e-4221-481f-8094-00b1ad35362a",
   "metadata": {
    "tags": []
   },
   "outputs": [
    {
     "name": "stdout",
     "output_type": "stream",
     "text": [
      "вот 0.02702702702702703\n",
      "дом 0.02702702702702703\n",
      "который 0.08108108108108109\n"
     ]
    }
   ],
   "source": [
    "for k, v in list(train_unigram_probas_no_smoothing.items())[:3]:\n",
    "    print(k, v)"
   ]
  },
  {
   "cell_type": "markdown",
   "id": "dcddd158-c12e-46c2-a0e2-f6c0104c36c0",
   "metadata": {},
   "source": [
    "### Подсчёт вероятностей биграммных моделей\n",
    "\n",
    "* Биграммная модель без сглаживания \n",
    "\n",
    "* Биграммная модель со сглаживанием Лапласа ($\\lambda$ = 1)"
   ]
  },
  {
   "cell_type": "code",
   "execution_count": 12,
   "id": "1bd822b5-34c9-47ca-8dc7-258d8ecfe406",
   "metadata": {
    "tags": []
   },
   "outputs": [],
   "source": [
    "train_bigram_probas_no_smoothing = calculate_bigram_probabilities(tokens=train_tokens, vocab=train_test_unigram_vocab)\n",
    "train_bigram_probas_add1 = calculate_bigram_probabilities(tokens=train_tokens,\n",
    "                                                            smoothing=\"additive\",\n",
    "                                                            add_lambda=1.,\n",
    "                                                            vocab=train_test_unigram_vocab)"
   ]
  },
  {
   "cell_type": "code",
   "execution_count": 13,
   "id": "43896209-a633-4791-9410-474a4653ab7c",
   "metadata": {
    "tags": []
   },
   "outputs": [
    {
     "name": "stdout",
     "output_type": "stream",
     "text": [
      "<s> 1.0\n",
      "вот 1.0\n",
      "дом 1.0\n"
     ]
    }
   ],
   "source": [
    "for k, v in list(train_bigram_probas_no_smoothing.items())[:3]:\n",
    "    print(k, sum(v.values()))"
   ]
  },
  {
   "cell_type": "code",
   "execution_count": 14,
   "id": "bce4b024-40ea-4ff8-bef1-eeb05981f9ad",
   "metadata": {
    "tags": []
   },
   "outputs": [
    {
     "name": "stdout",
     "output_type": "stream",
     "text": [
      "<s> 0.9999999999999996\n",
      "вот 0.9999999999999996\n",
      "дом 0.9999999999999996\n"
     ]
    }
   ],
   "source": [
    "for k, v in list(train_bigram_probas_add1.items())[:3]:\n",
    "    print(k, sum(v.values()))"
   ]
  },
  {
   "cell_type": "code",
   "execution_count": null,
   "id": "41d59447-95cf-4de1-851c-7a2d5135f5ba",
   "metadata": {},
   "outputs": [],
   "source": []
  },
  {
   "cell_type": "code",
   "execution_count": 15,
   "id": "5c17fa08-7769-4cd0-914d-847947a5c60d",
   "metadata": {},
   "outputs": [],
   "source": [
    "EPS = 1e-12\n",
    "def calculate_unigram_perplexity(text_tokens: List[str], unigram_probabilities):\n",
    "    mean_log_p = 0.\n",
    "    # Skipping the starting (insignificant) token <s>\n",
    "    for unigram in text_tokens[1:]:\n",
    "        uni_prob = unigram_probabilities[unigram]\n",
    "\n",
    "        log_p = math.log2(uni_prob + EPS)\n",
    "        mean_log_p += log_p\n",
    "    # Again, the <s> token is skipped\n",
    "    mean_log_p /= len(text_tokens) - 1\n",
    "\n",
    "    return 2 ** (-mean_log_p)"
   ]
  },
  {
   "cell_type": "code",
   "execution_count": 16,
   "id": "1075c1f3-8b58-468a-a111-f2b50e9eda14",
   "metadata": {},
   "outputs": [],
   "source": [
    "def calculate_bigram_perplexity(text_tokens_padded: List[str], bigram_probabilities):\n",
    "    text_length_with_padding = len(text_tokens_padded)\n",
    "    mean_log_p = 0.\n",
    "\n",
    "    for i, j in zip(range(text_length_with_padding - 1), range(1, text_length_with_padding)):\n",
    "        first_token = text_tokens_padded[i]\n",
    "        second_token = text_tokens_padded[j]\n",
    "        if bigram_probabilities.get(first_token) is None:\n",
    "            conditional_bigram_probability = 0.\n",
    "        else:\n",
    "            conditional_bigram_probability = bigram_probabilities[first_token][second_token]\n",
    "        \n",
    "        log_p = math.log2(conditional_bigram_probability + EPS)\n",
    "        mean_log_p += log_p\n",
    "\n",
    "    mean_log_p /= text_length_with_padding - 1\n",
    "    \n",
    "    return 2 ** (-mean_log_p)"
   ]
  },
  {
   "cell_type": "markdown",
   "id": "564f3fd9-a6db-4efd-90e3-60541795f29f",
   "metadata": {},
   "source": [
    "### Подсчёт перплексии униграмных моделей на тестовом тексте\n",
    "\n",
    "* Модели:\n",
    "\n",
    "     * Биграммная модель без сглаживания \n",
    "\n",
    "    * Биграммная модель со сглаживанием Лапласа ($\\lambda$ = 1)\n",
    "* Модели обучены на тренировочной выборке"
   ]
  },
  {
   "cell_type": "code",
   "execution_count": 17,
   "id": "554955a4-696b-432e-80a7-adc84c300e4a",
   "metadata": {},
   "outputs": [],
   "source": [
    "test_unigram_perplexity_no_smoothing = calculate_unigram_perplexity(text_tokens=test_tokens,\n",
    "                                                       unigram_probabilities=train_unigram_probas_no_smoothing)\n",
    "test_unigram_perplexity_add1 = calculate_unigram_perplexity(text_tokens=test_tokens,\n",
    "                                                       unigram_probabilities=train_unigram_probas_add1)"
   ]
  },
  {
   "cell_type": "code",
   "execution_count": 18,
   "id": "6589d336-686d-473e-8231-3ae24895ad50",
   "metadata": {},
   "outputs": [
    {
     "name": "stdout",
     "output_type": "stream",
     "text": [
      "6323.6054670511385\n",
      "25.444076431061614\n"
     ]
    }
   ],
   "source": [
    "print(test_unigram_perplexity_no_smoothing)\n",
    "print(test_unigram_perplexity_add1)"
   ]
  },
  {
   "cell_type": "markdown",
   "id": "a0d75119-0c6d-4512-8be3-04ea160b8fc5",
   "metadata": {},
   "source": [
    "### Подсчёт перплексии биграмных моделей на тестовом тексте\n",
    "\n",
    "* Модели:\n",
    "\n",
    "     * Биграммная модель без сглаживания \n",
    "\n",
    "    * Биграммная модель со сглаживанием Лапласа ($\\lambda$ = 1)\n",
    "* Модели обучены на тренировочной выборке"
   ]
  },
  {
   "cell_type": "code",
   "execution_count": 19,
   "id": "19e33896-2c0f-42df-b010-e5659f740c55",
   "metadata": {
    "tags": []
   },
   "outputs": [],
   "source": [
    "test_bigram_perplexity_no_smoothing = calculate_bigram_perplexity(text_tokens_padded=test_tokens,\n",
    "                                        bigram_probabilities=train_bigram_probas_no_smoothing)\n",
    "test_bigram_perplexity_add1 = calculate_bigram_perplexity(text_tokens_padded=test_tokens,\n",
    "                                        bigram_probabilities=train_bigram_probas_add1)"
   ]
  },
  {
   "cell_type": "code",
   "execution_count": 20,
   "id": "772bed48-86c0-4eba-abcf-7e547241a510",
   "metadata": {
    "tags": []
   },
   "outputs": [
    {
     "name": "stdout",
     "output_type": "stream",
     "text": [
      "11475.58624314867\n",
      "13.745677638208829\n"
     ]
    }
   ],
   "source": [
    "print(test_bigram_perplexity_no_smoothing)\n",
    "print(test_bigram_perplexity_add1)"
   ]
  },
  {
   "cell_type": "markdown",
   "id": "a5976d11-89c7-4981-a1a4-7db8569a8193",
   "metadata": {},
   "source": [
    "## Поиск оптимального $\\lambda$ в аддитивной униграмной модели"
   ]
  },
  {
   "cell_type": "code",
   "execution_count": 30,
   "id": "43451b6a-cbf8-4063-b352-f9faf3ee0874",
   "metadata": {
    "tags": []
   },
   "outputs": [
    {
     "name": "stdout",
     "output_type": "stream",
     "text": [
      "Best smoothing lambda: 1.0\n",
      "Test perplexity with addictive unigram model (lambda = 1.0): 25.444076431061614\n"
     ]
    }
   ],
   "source": [
    "best_test_uni_perplexity = 10 ** 10\n",
    "best_smoothing_uni_lambda = -1.\n",
    "best_train_uni_probas_lambda = None\n",
    "\n",
    "lambda_range = np.arange(0.0, 1.01, 0.01)\n",
    "unigram_perplexities_list = []\n",
    "for smoothing_lambda in lambda_range:\n",
    "    train_unigram_probas_lambda = calculate_unigram_probabilities(tokens=train_tokens,\n",
    "                                                                smoothing=\"additive\",\n",
    "                                                                add_lambda=smoothing_lambda,\n",
    "                                                                vocab=train_test_unigram_vocab)\n",
    "    test_unigram_perplexity_addictive_lambda = calculate_unigram_perplexity(text_tokens=test_tokens,\n",
    "                                                       unigram_probabilities=train_unigram_probas_lambda)\n",
    "    unigram_perplexities_list.append(math.log10(test_unigram_perplexity_addictive_lambda))\n",
    "    \n",
    "    if test_unigram_perplexity_addictive_lambda < best_test_uni_perplexity:\n",
    "        best_test_uni_perplexity = test_unigram_perplexity_addictive_lambda\n",
    "        best_smoothing_uni_lambda = smoothing_lambda\n",
    "        best_train_uni_probas_lambda = train_unigram_probas_lambda\n",
    "print(f\"Best smoothing lambda: {best_smoothing_uni_lambda}\")\n",
    "test_unigram_perplexity_addictive_lambda = calculate_unigram_perplexity(text_tokens=test_tokens,\n",
    "                                                       unigram_probabilities=best_train_uni_probas_lambda)\n",
    "print(f\"Test perplexity with addictive unigram model (lambda = {best_smoothing_uni_lambda}): {test_unigram_perplexity_addictive_lambda}\")"
   ]
  },
  {
   "cell_type": "markdown",
   "id": "224a103a-1ef9-423a-8afc-040a0f1e682f",
   "metadata": {},
   "source": [
    "### График зависимости между перплексией на тестовом тексте и параметром сглаживания $\\lambda$ (униграммная модель)"
   ]
  },
  {
   "cell_type": "code",
   "execution_count": 22,
   "id": "0e9ada48-bda4-4a99-8ed9-51d7457c12ec",
   "metadata": {
    "tags": []
   },
   "outputs": [
    {
     "data": {
      "image/png": "[encoded data removed]",
      "text/plain": [
       "<Figure size 640x480 with 1 Axes>"
      ]
     },
     "metadata": {},
     "output_type": "display_data"
    }
   ],
   "source": [
    "plt.plot(lambda_range, unigram_perplexities_list)\n",
    "plt.title(\"Perplexity of unigram model with smoothing\")\n",
    "plt.xlabel(\"Smoothing $\\lambda$\")\n",
    "plt.ylabel(\"Log-perplexity\")\n",
    "plt.savefig(\"unigram_perplexity.pdf\", format=\"pdf\")"
   ]
  },
  {
   "cell_type": "markdown",
   "id": "99c83a9e-5413-49cb-ac66-4e582c4e3303",
   "metadata": {},
   "source": [
    "## Поиск оптимального $\\lambda$ в аддитивной биграмной модели"
   ]
  },
  {
   "cell_type": "code",
   "execution_count": 23,
   "id": "83dc2d5c-9aab-4d0c-b382-77c0c99018eb",
   "metadata": {
    "tags": []
   },
   "outputs": [
    {
     "name": "stdout",
     "output_type": "stream",
     "text": [
      "Best smoothing lambda: 0.01\n",
      "Test perplexity with addictive bigram model (lambda = 0.01): 4.441470579744092\n"
     ]
    }
   ],
   "source": [
    "best_test_bi_perplexity = 10 ** 10\n",
    "best_smoothing_bi_lambda = -1.\n",
    "best_train_bi_probas_lambda = None\n",
    "\n",
    "lambda_range = np.arange(0.0, 1.01, 0.01)\n",
    "bigram_perplexities_list = []\n",
    "\n",
    "for smoothing_lambda in lambda_range:\n",
    "    train_bigram_probas_lambda = calculate_bigram_probabilities(tokens=train_tokens,\n",
    "                                                                smoothing=\"additive\",\n",
    "                                                                add_lambda=smoothing_lambda,\n",
    "                                                                vocab=train_test_unigram_vocab)\n",
    "    test_bigram_perplexity_addictive_lambda = calculate_bigram_perplexity(text_tokens_padded=test_tokens,\n",
    "                                                       bigram_probabilities=train_bigram_probas_lambda)\n",
    "    bigram_perplexities_list.append(math.log10(test_bigram_perplexity_addictive_lambda))\n",
    "\n",
    "    if test_bigram_perplexity_addictive_lambda < best_test_bi_perplexity:\n",
    "        best_test_bi_perplexity = test_bigram_perplexity_addictive_lambda\n",
    "        best_smoothing_bi_lambda = smoothing_lambda\n",
    "        best_train_bi_probas_lambda = train_bigram_probas_lambda\n",
    "print(f\"Best smoothing lambda: {best_smoothing_bi_lambda}\")\n",
    "\n",
    "test_bigram_perplexity_addictive_lambda = calculate_bigram_perplexity(text_tokens_padded=test_tokens,\n",
    "                                                       bigram_probabilities=best_train_bi_probas_lambda)\n",
    "print(f\"Test perplexity with addictive bigram model (lambda = {best_smoothing_bi_lambda}): {test_bigram_perplexity_addictive_lambda}\")"
   ]
  },
  {
   "cell_type": "markdown",
   "id": "4866b5a2-3de5-4f51-9d80-56bfe35eb30e",
   "metadata": {},
   "source": [
    "### График зависимости между перплексией на тестовом тексте и параметром сглаживания $\\lambda$ (биграммная модель)"
   ]
  },
  {
   "cell_type": "code",
   "execution_count": 24,
   "id": "fb15b8d5-1e9c-4b21-96f9-a888a982f777",
   "metadata": {
    "tags": []
   },
   "outputs": [
    {
     "data": {
      "image/png": "[encoded data removed]",
      "text/plain": [
       "<Figure size 640x480 with 1 Axes>"
      ]
     },
     "metadata": {},
     "output_type": "display_data"
    }
   ],
   "source": [
    "plt.plot(lambda_range, bigram_perplexities_list)\n",
    "plt.title(\"Perplexity of bigram model with smoothing\")\n",
    "plt.xlabel(\"Smoothing $\\lambda$\")\n",
    "plt.ylabel(\"Log-perplexity\")\n",
    "plt.savefig(\"Bigram_perplexity.pdf\", format=\"pdf\")"
   ]
  },
  {
   "cell_type": "markdown",
   "id": "84ae283c-5ac8-4586-8889-7f6aeaf35958",
   "metadata": {},
   "source": [
    "### Простая линейная интерполяционная модель"
   ]
  },
  {
   "cell_type": "code",
   "execution_count": 25,
   "id": "d731b2a8-f2f6-4dc3-af88-1084a7c4c524",
   "metadata": {},
   "outputs": [],
   "source": [
    "EPS = 1e-12\n",
    "def calculate_uni_bi_gram_linear_model_perplexity(tokens, unigram_probabilities,\n",
    "                                                 bigram_probabilities, uni_lambda):\n",
    "    text_length_with_padding = len(tokens)\n",
    "    mean_log_p = 0.\n",
    "    for i, j in zip(range(text_length_with_padding - 1), range(1, text_length_with_padding)):\n",
    "        first_token = tokens[i]\n",
    "        second_token = tokens[j]\n",
    "        \n",
    "        if bigram_probabilities.get(first_token) is None:\n",
    "            bigram_proba = 0.\n",
    "        else:\n",
    "            bigram_proba = bigram_probabilities[first_token][second_token]\n",
    "        unigram_proba = unigram_probabilities[second_token]\n",
    "        \n",
    "        weighted_proba = uni_lambda * unigram_proba + (1 - uni_lambda) * bigram_proba\n",
    "        log_p = math.log2(weighted_proba + EPS)\n",
    "        mean_log_p += log_p\n",
    "    mean_log_p /= len(tokens) - 1\n",
    "    \n",
    "    return 2 ** (-mean_log_p)"
   ]
  },
  {
   "cell_type": "markdown",
   "id": "64cc8ff5-e982-494d-8d9d-7f9784bc07f7",
   "metadata": {
    "tags": []
   },
   "source": [
    "### Поиск оптимального веса униграммной/биграммной модели в линейной модели"
   ]
  },
  {
   "cell_type": "code",
   "execution_count": 26,
   "id": "5827aa76-17af-482b-b8b0-8eef16ab2c51",
   "metadata": {},
   "outputs": [
    {
     "name": "stdout",
     "output_type": "stream",
     "text": [
      "Best unigram model's weight in linear model: 0.0\n",
      "Best linear model's perplexity: 4.441470579744092\n"
     ]
    }
   ],
   "source": [
    "best_linear_model_perp = 10 ** 10\n",
    "best_linear_uni_weight_lambda = -1.\n",
    "\n",
    "lambda_range = np.arange(0.0, 1.01, 0.01)\n",
    "linear_model_perp_list = []\n",
    "\n",
    "for uni_weight_lambda in lambda_range:\n",
    "    linear_model_perp = calculate_uni_bi_gram_linear_model_perplexity(test_tokens,\n",
    "                                                unigram_probabilities=best_train_uni_probas_lambda,\n",
    "                                                bigram_probabilities=best_train_bi_probas_lambda,\n",
    "                                                uni_lambda=uni_weight_lambda)\n",
    "    linear_model_perp_list.append(math.log10(linear_model_perp))\n",
    "\n",
    "    if linear_model_perp < best_linear_model_perp:\n",
    "        best_linear_model_perp = linear_model_perp\n",
    "        best_linear_uni_weight_lambda = uni_weight_lambda\n",
    "\n",
    "print(f\"Best unigram model's weight in linear model: {best_linear_uni_weight_lambda}\")\n",
    "print(f\"Best linear model's perplexity: {best_linear_model_perp}\")"
   ]
  },
  {
   "cell_type": "code",
   "execution_count": 27,
   "id": "6a6f709d-0824-45fc-a625-8a72de787ddf",
   "metadata": {
    "tags": []
   },
   "outputs": [
    {
     "data": {
      "image/png": "[encoded data removed]",
      "text/plain": [
       "<Figure size 640x480 with 1 Axes>"
      ]
     },
     "metadata": {},
     "output_type": "display_data"
    }
   ],
   "source": [
    "plt.plot(lambda_range, linear_model_perp_list)\n",
    "plt.title(\"Perplexity of linear model\")\n",
    "plt.xlabel(\"Unigram model's weight\")\n",
    "plt.ylabel(\"Log-perplexity\")\n",
    "plt.savefig(\"linear_perplexity.pdf\", format=\"pdf\")"
   ]
  },
  {
   "cell_type": "code",
   "execution_count": null,
   "id": "0f00834c-d81b-4348-85c6-03645f6907d4",
   "metadata": {},
   "outputs": [],
   "source": []
  }
 ],
 "metadata": {
  "kernelspec": {
   "display_name": "Python 3 (ipykernel)",
   "language": "python",
   "name": "python3"
  },
  "language_info": {
   "codemirror_mode": {
    "name": "ipython",
    "version": 3
   },
   "file_extension": ".py",
   "mimetype": "text/x-python",
   "name": "python",
   "nbconvert_exporter": "python",
   "pygments_lexer": "ipython3",
   "version": "3.10.6"
  }
 },
 "nbformat": 4,
 "nbformat_minor": 5
}
