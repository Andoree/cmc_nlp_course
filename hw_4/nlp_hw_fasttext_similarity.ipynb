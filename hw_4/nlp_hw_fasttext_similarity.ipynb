{
 "cells": [
  {
   "cell_type": "markdown",
   "id": "b0b102c6-295b-4905-a6c5-ef37d4600448",
   "metadata": {},
   "source": [
    "## Результаты\n",
    "\n",
    "\n",
    "Значение коэффициента корреляции Спирмена между человеческими оценками и косинусной близостью между векторами Fasttext:\n",
    "    \n",
    "    - Для списка similarity: 83.19;\n",
    "    - Для списка relatedness: 73.1.\n",
    "\n",
    "**Вывод**: Значения косинусной близости между векторами модели Fasttext хорошо коррелируют с человеческими оценками сходства между словами. Следовательно, схожие по значениям слова находятся близко друг к другу в пространстве векторов, а сами вектора слов информативны с точки зрения семантики. "
   ]
  },
  {
   "cell_type": "code",
   "execution_count": 2,
   "id": "8b1e3f47-0aaf-490a-a659-449155f528c3",
   "metadata": {
    "tags": []
   },
   "outputs": [],
   "source": [
    "# !pip -q install fasttext\n",
    "# !pip show scipy"
   ]
  },
  {
   "cell_type": "code",
   "execution_count": 3,
   "id": "c0393ba3-090a-49a0-b107-f0d684d657af",
   "metadata": {},
   "outputs": [],
   "source": [
    "import fasttext\n",
    "import fasttext.util\n",
    "from scipy.spatial.distance import cosine\n",
    "from scipy.stats import spearmanr"
   ]
  },
  {
   "cell_type": "code",
   "execution_count": 4,
   "id": "58dc9bf1-a6cb-465c-9ec7-70663bb76f38",
   "metadata": {},
   "outputs": [],
   "source": [
    "def load_similarity_triplets(inp_path: str, sep='\\t'):\n",
    "    word_similarity_triples: List[Tuple[str, str, float]] = []\n",
    "    with open(inp_path, 'r', encoding=\"utf-8\") as inp_file:\n",
    "        for line in inp_file:\n",
    "            attrs = line.strip().split(sep)\n",
    "            word_1 = attrs[0].lower()\n",
    "            word_2 = attrs[1].lower()\n",
    "            similarity = float(attrs[2])\n",
    "            word_similarity_triples.append((word_1, word_2, similarity))\n",
    "    return word_similarity_triples"
   ]
  },
  {
   "cell_type": "code",
   "execution_count": 5,
   "id": "79c8d5c3-064f-42e1-9687-186bd6e46e34",
   "metadata": {},
   "outputs": [],
   "source": [
    "relatedness_file_path = \"./wordsim353_sim_rel/wordsim_relatedness_goldstandard.txt\"\n",
    "similarity_file_path = \"./wordsim353_sim_rel/wordsim_similarity_goldstandard.txt\""
   ]
  },
  {
   "cell_type": "code",
   "execution_count": 6,
   "id": "5efd822d-6a08-4cd3-b7d2-fbebda99cbeb",
   "metadata": {},
   "outputs": [],
   "source": [
    "relatedness_triples = load_similarity_triplets(inp_path=relatedness_file_path)\n",
    "similarity_triples = load_similarity_triplets(inp_path=similarity_file_path)"
   ]
  },
  {
   "cell_type": "markdown",
   "id": "8e9be0e8-ce13-4bc4-9b93-d03bc6a7d867",
   "metadata": {},
   "source": [
    "### Загрузка предобученной модели Fasttext"
   ]
  },
  {
   "cell_type": "code",
   "execution_count": 7,
   "id": "3ca1ef2b-e130-4ac6-bc9d-a005bf764d76",
   "metadata": {
    "tags": []
   },
   "outputs": [
    {
     "name": "stdout",
     "output_type": "stream",
     "text": [
      "File exists. Use --overwrite to download anyway.\n"
     ]
    },
    {
     "name": "stderr",
     "output_type": "stream",
     "text": [
      "Warning : `load_model` does not return WordVectorModel or SupervisedModel any more, but a `FastText` object which is very similar.\n"
     ]
    }
   ],
   "source": [
    "# fasttext.util.download_model('en',) \n",
    "ft_model = fasttext.load_model('cc.en.300.bin')"
   ]
  },
  {
   "cell_type": "markdown",
   "id": "07df728b-b6d9-49f8-b9b7-fd49fa2ce28e",
   "metadata": {
    "tags": []
   },
   "source": [
    "### Создание списка человеческих оценок relatedness и similarity"
   ]
  },
  {
   "cell_type": "code",
   "execution_count": 9,
   "id": "7368875b-c9fc-4293-848d-b1b004a328e2",
   "metadata": {},
   "outputs": [],
   "source": [
    "human_relatedness = [t[2] for t in relatedness_triples]\n",
    "human_similarities = [t[2] for t in similarity_triples]"
   ]
  },
  {
   "cell_type": "code",
   "execution_count": 10,
   "id": "4a77e572-8cd8-4bd8-acd1-3bbbce651447",
   "metadata": {},
   "outputs": [],
   "source": [
    "def calculate_fasttext_pairwise_cos_sims(fasttext_model, word_pair_similarities):\n",
    "    # Функция получает на вход список пар слов, для обоих слов каждый пары находит соответствующий вектор\n",
    "    # с помощью модели Fasttext. После чего находит значение косинусной близости между парами этих векторов.\n",
    "    # Функция возвращает список значений косинусной близости для всех пар слов из входного списка\n",
    "    fasttext_similarities = []\n",
    "    for (w_1, w_2, _) in word_pair_similarities:\n",
    "        w_1_ft_vector = fasttext_model[w_1]\n",
    "        w_2_ft_vector = fasttext_model[w_2]\n",
    "        cosine_sim = 1. - cosine(w_1_ft_vector, w_2_ft_vector)\n",
    "        fasttext_similarities.append(cosine_sim)\n",
    "    return fasttext_similarities"
   ]
  },
  {
   "cell_type": "markdown",
   "id": "0d57f4fd-3cc7-474e-8e62-9af0f2f1242e",
   "metadata": {},
   "source": [
    "### Подсчёт косинусной близости пар слов из списков relatedness и similarity"
   ]
  },
  {
   "cell_type": "code",
   "execution_count": 11,
   "id": "0c2b0475-6c04-41c6-bb67-289180b695c9",
   "metadata": {},
   "outputs": [],
   "source": [
    "fasttext_relatedness = calculate_fasttext_pairwise_cos_sims(fasttext_model=ft_model,\n",
    "                                                            word_pair_similarities=relatedness_triples)\n",
    "fasttext_similarities = calculate_fasttext_pairwise_cos_sims(fasttext_model=ft_model,\n",
    "                                                            word_pair_similarities=similarity_triples)"
   ]
  },
  {
   "cell_type": "markdown",
   "id": "436484b8-d507-4751-93c4-9884c145790d",
   "metadata": {},
   "source": [
    "### Подсчёт коэффициента корреляции Спирмена между человеческими оценками и косинусной близостью векторов, а также статистической значимости (p-value)"
   ]
  },
  {
   "cell_type": "code",
   "execution_count": 12,
   "id": "96ed8eb0-9305-43bf-b0b3-d4f43a6a74cc",
   "metadata": {},
   "outputs": [
    {
     "name": "stdout",
     "output_type": "stream",
     "text": [
      "Relatedness: Коэффициент корреляции Спирмена: 0.7309719110157804, p-value: 2.228956668081054e-43\n",
      "Similarity: Коэффициент корреляции Спирмена: 0.8318571698290462, p-value: 2.6920746558561095e-53\n"
     ]
    }
   ],
   "source": [
    "spearman_corr_relatedness = spearmanr(human_relatedness, fasttext_relatedness)\n",
    "spearman_corr_similarities = spearmanr(human_similarities, fasttext_similarities)\n",
    "\n",
    "relatedness_corr_coef, relatedness_corr_pvalue = spearman_corr_relatedness.correlation, spearman_corr_relatedness.pvalue\n",
    "similarity_corr_coef, similarity_corr_pvalue = spearman_corr_similarities.correlation, spearman_corr_similarities.pvalue\n",
    "\n",
    "print(f\"Relatedness: Коэффициент корреляции Спирмена: {relatedness_corr_coef}, p-value: {relatedness_corr_pvalue}\")\n",
    "print(f\"Similarity: Коэффициент корреляции Спирмена: {similarity_corr_coef}, p-value: {similarity_corr_pvalue}\")"
   ]
  },
  {
   "cell_type": "code",
   "execution_count": null,
   "id": "d3a825ea-0f65-4249-9a09-90a35d63d705",
   "metadata": {},
   "outputs": [],
   "source": []
  },
  {
   "cell_type": "code",
   "execution_count": null,
   "id": "e668a387-6b28-4159-931d-f2ef42decfa8",
   "metadata": {},
   "outputs": [],
   "source": []
  },
  {
   "cell_type": "code",
   "execution_count": null,
   "id": "04b77bcb-47eb-4a53-a20b-7b8d96cd4cdd",
   "metadata": {},
   "outputs": [],
   "source": []
  }
 ],
 "metadata": {
  "kernelspec": {
   "display_name": "Python 3 (ipykernel)",
   "language": "python",
   "name": "python3"
  },
  "language_info": {
   "codemirror_mode": {
    "name": "ipython",
    "version": 3
   },
   "file_extension": ".py",
   "mimetype": "text/x-python",
   "name": "python",
   "nbconvert_exporter": "python",
   "pygments_lexer": "ipython3",
   "version": "3.10.6"
  }
 },
 "nbformat": 4,
 "nbformat_minor": 5
}
